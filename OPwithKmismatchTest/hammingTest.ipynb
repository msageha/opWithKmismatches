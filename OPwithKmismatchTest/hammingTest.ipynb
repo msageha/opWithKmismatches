{
 "cells": [
  {
   "cell_type": "code",
   "execution_count": 146,
   "metadata": {},
   "outputs": [],
   "source": [
    "import numpy as numpy\n",
    "\n",
    "SUPECIALCHAR = -100001\n",
    "\n",
    "with open('../PatternText/pattern.txt', 'r') as f:\n",
    "  P = np.array(list(map(int, f.read().splitlines())))\n",
    "PLength = len(P)\n",
    "\n",
    "predP = np.zeros(PLength, dtype=int)\n",
    "pred = SUPECIALCHAR\n",
    "for i in P.argsort():\n",
    "  predP[i] = pred\n",
    "  pred = i\n",
    "\n",
    "SP = np.zeros(PLength, dtype=int)\n",
    "for i in range(PLength):\n",
    "  if(predP[i]==SUPECIALCHAR):\n",
    "    SP[i] = predP[i]\n",
    "  else:\n",
    "    SP[i] = predP[i] - i\n",
    "\n",
    "with open('../PatternText/text.txt', 'r') as f:\n",
    "  T = np.array(list(map(int, f.read().splitlines())))\n",
    "TLength = len(T)\n",
    "\n",
    "Tsub = np.zeros((TLength-PLength+1, PLength), dtype=int)\n",
    "for i in range(TLength-PLength+1):\n",
    "  for j in range(PLength):\n",
    "    Tsub[i][j] = T[i+j]\n",
    "\n",
    "predT = np.zeros((TLength-PLength+1, PLength), dtype=int)\n",
    "\n",
    "for i in range(TLength-PLength+1):\n",
    "  pred = SUPECIALCHAR\n",
    "  for j in Tsub[i].argsort():\n",
    "    predT[i][j] = pred\n",
    "    pred = i+j\n",
    "\n",
    "ST = np.zeros((TLength-PLength+1, PLength), dtype=int)\n",
    "for i in range(TLength-PLength+1):\n",
    "  for j in range(PLength):\n",
    "    if(predT[i][j]==SUPECIALCHAR):\n",
    "      ST[i][j] = predT[i][j]\n",
    "    else:\n",
    "      ST[i][j] = predT[i][j] - (i+j)\n",
    "\n",
    "with open('hammingAnswerK=1.txt', 'r') as f:\n",
    "  correctIndex = np.array(list(map(int, f.read().splitlines())))"
   ]
  },
  {
   "cell_type": "code",
   "execution_count": 158,
   "metadata": {},
   "outputs": [
    {
     "data": {
      "text/plain": [
       "array([ 4551, 17574, 25769, 40603, 68144, 86765, 89163, 96996])"
      ]
     },
     "execution_count": 158,
     "metadata": {},
     "output_type": "execute_result"
    }
   ],
   "source": [
    "correctIndex"
   ]
  },
  {
   "cell_type": "code",
   "execution_count": 205,
   "metadata": {},
   "outputs": [],
   "source": [
    "correct = 89163"
   ]
  },
  {
   "cell_type": "code",
   "execution_count": 206,
   "metadata": {},
   "outputs": [],
   "source": [
    "a = P\n",
    "b = T[correct:correct+PLength]\n",
    "Sa = SP\n",
    "Sb = ST[correct]\n",
    "temp = Sa==Sb\n",
    "d = []\n",
    "for i in range(len(temp)):\n",
    "    if(temp[i]) == False:\n",
    "        d.append(i)\n",
    "    if a[i]==100001 and b[i]==100001:\n",
    "        d.append(i)\n",
    "d = np.array(d)"
   ]
  },
  {
   "cell_type": "code",
   "execution_count": 207,
   "metadata": {},
   "outputs": [
    {
     "data": {
      "text/plain": [
       "array([1788, 7881, 3180, 1889, 5542, 1695, 9557, 1437,  930, 8707])"
      ]
     },
     "execution_count": 207,
     "metadata": {},
     "output_type": "execute_result"
    }
   ],
   "source": [
    "a"
   ]
  },
  {
   "cell_type": "code",
   "execution_count": 208,
   "metadata": {},
   "outputs": [
    {
     "data": {
      "text/plain": [
       "array([1, 4, 9])"
      ]
     },
     "execution_count": 208,
     "metadata": {},
     "output_type": "execute_result"
    }
   ],
   "source": [
    "b_temp = np.array([b[i] for i in d]).argsort()\n",
    "b_temp.argsort()\n",
    "d = d[b_temp.argsort()]\n",
    "d"
   ]
  },
  {
   "cell_type": "code",
   "execution_count": 209,
   "metadata": {},
   "outputs": [
    {
     "data": {
      "text/plain": [
       "array([2268, 6562, 4903, 4358, 7054, 2160, 8346, 1476, 1234, 7451])"
      ]
     },
     "execution_count": 209,
     "metadata": {},
     "output_type": "execute_result"
    }
   ],
   "source": [
    "b"
   ]
  },
  {
   "cell_type": "code",
   "execution_count": 210,
   "metadata": {},
   "outputs": [
    {
     "data": {
      "text/plain": [
       "array([      5,       3,       1,      -3,      -2,       2,       3,\n",
       "             1, -100001,      -8])"
      ]
     },
     "execution_count": 210,
     "metadata": {},
     "output_type": "execute_result"
    }
   ],
   "source": [
    "Sa"
   ]
  },
  {
   "cell_type": "code",
   "execution_count": 211,
   "metadata": {},
   "outputs": [
    {
     "data": {
      "text/plain": [
       "array([      5,       1,       1,      -3,      -3,       2,       3,\n",
       "             1, -100001,      -5])"
      ]
     },
     "execution_count": 211,
     "metadata": {},
     "output_type": "execute_result"
    }
   ],
   "source": [
    "Sb"
   ]
  },
  {
   "cell_type": "code",
   "execution_count": 174,
   "metadata": {},
   "outputs": [
    {
     "data": {
      "text/plain": [
       "[1, 0, 2, 4]"
      ]
     },
     "execution_count": 174,
     "metadata": {},
     "output_type": "execute_result"
    }
   ],
   "source": [
    "l = []\n",
    "weight = 0\n",
    "for i in a.argsort():\n",
    "    if i in d:\n",
    "        l.append(weight)\n",
    "        weight = 0\n",
    "    if Sa[i] == Sb[i]:\n",
    "        weight += 1\n",
    "l.append(weight)\n",
    "l"
   ]
  },
  {
   "cell_type": "code",
   "execution_count": 175,
   "metadata": {},
   "outputs": [
    {
     "data": {
      "text/plain": [
       "4"
      ]
     },
     "execution_count": 175,
     "metadata": {},
     "output_type": "execute_result"
    }
   ],
   "source": [
    "weight"
   ]
  },
  {
   "cell_type": "code",
   "execution_count": 176,
   "metadata": {},
   "outputs": [
    {
     "data": {
      "text/plain": [
       "array([7, 2, 5])"
      ]
     },
     "execution_count": 176,
     "metadata": {},
     "output_type": "execute_result"
    }
   ],
   "source": [
    "d"
   ]
  },
  {
   "cell_type": "code",
   "execution_count": 41,
   "metadata": {},
   "outputs": [],
   "source": [
    "d = d[b_temp.argsort()]"
   ]
  },
  {
   "cell_type": "code",
   "execution_count": 42,
   "metadata": {},
   "outputs": [
    {
     "data": {
      "text/plain": [
       "array([6, 8, 2])"
      ]
     },
     "execution_count": 42,
     "metadata": {},
     "output_type": "execute_result"
    }
   ],
   "source": [
    "d"
   ]
  },
  {
   "cell_type": "code",
   "execution_count": 29,
   "metadata": {},
   "outputs": [],
   "source": [
    "d = d[b_temp.argsort()]"
   ]
  },
  {
   "cell_type": "code",
   "execution_count": 33,
   "metadata": {},
   "outputs": [
    {
     "data": {
      "text/plain": [
       "array([     5,      3,      4,     -3,     -2,      2, 100001,      1,\n",
       "            1,     -8])"
      ]
     },
     "execution_count": 33,
     "metadata": {},
     "output_type": "execute_result"
    }
   ],
   "source": [
    "b."
   ]
  },
  {
   "cell_type": "code",
   "execution_count": 32,
   "metadata": {},
   "outputs": [
    {
     "data": {
      "text/plain": [
       "array([     5,      3,      1,     -3,     -2,      2,      3,      1,\n",
       "       100001,     -8])"
      ]
     },
     "execution_count": 32,
     "metadata": {},
     "output_type": "execute_result"
    }
   ],
   "source": [
    "a"
   ]
  },
  {
   "cell_type": "code",
   "execution_count": null,
   "metadata": {},
   "outputs": [],
   "source": []
  }
 ],
 "metadata": {
  "kernelspec": {
   "display_name": "Python 3",
   "language": "python",
   "name": "python3"
  },
  "language_info": {
   "codemirror_mode": {
    "name": "ipython",
    "version": 3
   },
   "file_extension": ".py",
   "mimetype": "text/x-python",
   "name": "python",
   "nbconvert_exporter": "python",
   "pygments_lexer": "ipython3",
   "version": "3.5.2"
  }
 },
 "nbformat": 4,
 "nbformat_minor": 2
}
