{
 "cells": [
  {
   "cell_type": "code",
   "execution_count": 1,
   "metadata": {},
   "outputs": [],
   "source": [
    "import numpy as np"
   ]
  },
  {
   "cell_type": "code",
   "execution_count": 2,
   "metadata": {},
   "outputs": [],
   "source": [
    "SUPECIALCHAR = 10001\n",
    "K = 1 #mistakesNum\n",
    "\n",
    "with open('../PatternText/pattern.txt', 'r') as f:\n",
    "  P = np.array(list(map(int, f.read().splitlines())))\n",
    "PLength = len(P)\n",
    "\n",
    "predP = np.zeros(PLength, dtype=int)\n",
    "pred = SUPECIALCHAR\n",
    "for i in P.argsort():\n",
    "  predP[i] = pred\n",
    "  pred = i\n",
    "\n",
    "SP = np.zeros(PLength, dtype=int)\n",
    "for i in range(PLength):\n",
    "  if(predP[i]==SUPECIALCHAR):\n",
    "    SP[i] = predP[i]\n",
    "  else:\n",
    "    SP[i] = predP[i] - i"
   ]
  },
  {
   "cell_type": "code",
   "execution_count": 7,
   "metadata": {},
   "outputs": [],
   "source": [
    "with open('../PatternText/text.txt', 'r') as f:\n",
    "  T = np.array(list(map(int, f.read().splitlines())))\n",
    "TLength = len(T)\n",
    "\n",
    "Tsub = np.zeros((TLength-PLength, PLength), dtype=int)\n",
    "for i in range(TLength-PLength):\n",
    "  for j in range(PLength):\n",
    "    Tsub[i][j] = T[i+j]\n",
    "\n",
    "predT = np.zeros((TLength-PLength, PLength), dtype=int)\n",
    "\n",
    "for i in range(TLength-PLength):\n",
    "  pred = SUPECIALCHAR\n",
    "  for j in Tsub[i].argsort():\n",
    "    predT[i][j] = pred\n",
    "    pred = i+j\n",
    "\n",
    "ST = np.zeros((TLength-PLength, PLength), dtype=int)\n",
    "for i in range(TLength-PLength):\n",
    "  for j in range(PLength):\n",
    "    if(predT[i][j]==SUPECIALCHAR):\n",
    "      ST[i][j] = predT[i][j]\n",
    "    else:\n",
    "      ST[i][j] = predT[i][j] - (i+j)"
   ]
  },
  {
   "cell_type": "code",
   "execution_count": 10,
   "metadata": {},
   "outputs": [],
   "source": [
    "#LCPの準備\n",
    "LCP = np.array([np.zeros(len(P))]*len(P))\n",
    "for i in range(len(P)):\n",
    "  for j in range(0,len(P)-i):\n",
    "    count = 0\n",
    "    for k in range(i, len(P)-j):\n",
    "      if(SP[k]==SP[j+k]):\n",
    "        count += 1\n",
    "      else:\n",
    "        break\n",
    "    LCP[i][j+i] = count\n",
    "    LCP[j+i][i] = count"
   ]
  },
  {
   "cell_type": "code",
   "execution_count": 20,
   "metadata": {},
   "outputs": [],
   "source": [
    "STchangeIndex = np.zeros((TLength-PLength-1, PLength), dtype=int) #STがi→i+1になるときにどこのインデックスがチェンジしたかをiが管理している\n",
    "\n",
    "for i in range(TLength-PLength-1):\n",
    "    for j in range(PLength-1):\n",
    "        if ST[i][j+1] != ST[i+1][j]:\n",
    "            STchangeIndex[i][j] = 1\n"
   ]
  },
  {
   "cell_type": "code",
   "execution_count": 25,
   "metadata": {},
   "outputs": [],
   "source": [
    "with open('./STchangeIndex.csv', 'w') as f:\n",
    "    for i in range(TLength-PLength-1):\n",
    "        for j in range(PLength):\n",
    "            f.write(str(STchangeIndex[i][j])+'\\t')\n",
    "        f.write('\\n')\n"
   ]
  },
  {
   "cell_type": "code",
   "execution_count": 23,
   "metadata": {},
   "outputs": [
    {
     "data": {
      "text/plain": [
       "array([[0, 0, 0, ..., 1, 1, 0],\n",
       "       [0, 1, 0, ..., 0, 0, 0],\n",
       "       [0, 0, 0, ..., 0, 1, 0],\n",
       "       ..., \n",
       "       [0, 0, 0, ..., 0, 0, 0],\n",
       "       [0, 1, 0, ..., 0, 0, 0],\n",
       "       [0, 0, 1, ..., 0, 1, 0]])"
      ]
     },
     "execution_count": 23,
     "metadata": {},
     "output_type": "execute_result"
    }
   ],
   "source": [
    "STchangeIndex"
   ]
  },
  {
   "cell_type": "code",
   "execution_count": null,
   "metadata": {},
   "outputs": [],
   "source": []
  }
 ],
 "metadata": {
  "kernelspec": {
   "display_name": "Python 3",
   "language": "python",
   "name": "python3"
  },
  "language_info": {
   "codemirror_mode": {
    "name": "ipython",
    "version": 3
   },
   "file_extension": ".py",
   "mimetype": "text/x-python",
   "name": "python",
   "nbconvert_exporter": "python",
   "pygments_lexer": "ipython3",
   "version": "3.5.2"
  }
 },
 "nbformat": 4,
 "nbformat_minor": 2
}
